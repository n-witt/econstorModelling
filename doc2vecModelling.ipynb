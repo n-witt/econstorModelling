{
 "cells": [
  {
   "cell_type": "markdown",
   "metadata": {},
   "source": [
    "# based on https://medium.com/@klintcho/doc2vec-tutorial-using-gensim-ab3ac03d3a1#.9pqcww5sb"
   ]
  },
  {
   "cell_type": "code",
   "execution_count": null,
   "metadata": {
    "collapsed": false
   },
   "outputs": [],
   "source": [
    "import json\n",
    "import os\n",
    "import requests\n",
    "import IPython\n",
    "import ipykernel as kernel\n",
    "connection_file_path = kernel.get_connection_file()\n",
    "connection_file = os.path.basename(connection_file_path)\n",
    "kernel_id = connection_file.split('-', 1)[1].split('.')[0]\n",
    "\n",
    "def executeCell(x=0):\n",
    "    ''' executes the code in cell no 'x' (zero-based indexing)\n",
    "    '''\n",
    "    sessions = requests.get('http://127.0.0.1:8888/api/sessions').json()\n",
    "    ipynbFileName = \"\"\n",
    "    for sess in sessions:\n",
    "        if sess['kernel']['id'] == kernel_id:\n",
    "            ipynbFileName = sess['notebook'][u'path']\n",
    "            ipynbFileName = ipynbFileName.split(os.sep)[-1]\n",
    "            break\n",
    "\n",
    "    # read this notebook's file\n",
    "    if ipynbFileName != \"\":\n",
    "        with open(ipynbFileName) as f:\n",
    "            nb = json.load(f)\n",
    "    \n",
    "    # locate cell's code\n",
    "    if type(nb) == dict:\n",
    "        try:\n",
    "            code = \"\"\n",
    "            if nb[u'cells'][x][u'cell_type'] == u'code':\n",
    "                for s in nb[u'cells'][x]['source']:\n",
    "                    code += s\n",
    "            else:\n",
    "                raise TypeError(\"The cell you request is not of type 'code'\")\n",
    "        except IndexError:\n",
    "            raise IndexError('No cell #' + str(x))\n",
    "    # execute\n",
    "    get_ipython().run_cell(code)"
   ]
  },
  {
   "cell_type": "markdown",
   "metadata": {},
   "source": [
    "## Define a logger"
   ]
  },
  {
   "cell_type": "code",
   "execution_count": null,
   "metadata": {
    "collapsed": true
   },
   "outputs": [],
   "source": [
    "import logging\n",
    "logging.getLogger().setLevel(logging.INFO)"
   ]
  },
  {
   "cell_type": "markdown",
   "metadata": {
    "slideshow": {
     "slide_type": "slide"
    }
   },
   "source": [
    "# Load labes and data"
   ]
  },
  {
   "cell_type": "code",
   "execution_count": null,
   "metadata": {
    "collapsed": false
   },
   "outputs": [],
   "source": [
    "import json\n",
    "import os\n",
    "from os.path import isfile, join\n",
    "from scandir import scandir\n",
    "\n",
    "\n",
    "class loadItems(object):\n",
    "    def __init__(self, wd = 'samples'):\n",
    "        self.wd = wd\n",
    "\n",
    "    def __iter__(self):\n",
    "        for doc in scandir(self.wd):\n",
    "            if doc.is_file() and doc.name.endswith('.json'):\n",
    "                with open(os.path.join(self.wd, doc.name), 'r') as f:\n",
    "                    yield json.load(f)   "
   ]
  },
  {
   "cell_type": "markdown",
   "metadata": {
    "slideshow": {
     "slide_type": "slide"
    }
   },
   "source": [
    "# Class that yields _LabeledSentence_ objects"
   ]
  },
  {
   "cell_type": "code",
   "execution_count": null,
   "metadata": {
    "collapsed": false
   },
   "outputs": [],
   "source": [
    "import re\n",
    "from textblob import TextBlob\n",
    "from nltk.corpus import stopwords\n",
    "\n",
    "def normalize(text, lang='en'):\n",
    "    # remove some symbols\n",
    "    text = re.sub(r'[,.;:]', r'', text)\n",
    "\n",
    "    # stopword removal\n",
    "    langMapping = [('de', 'german'), ('en', 'english'), ('es', 'spanish'), ('fr', 'french')]\n",
    "    langFound = None\n",
    "    for map in langMapping:\n",
    "        if lang == map[0]:\n",
    "            langFound = map[1]\n",
    "    if langFound is not None:\n",
    "        wordlist = [w for w in text.split() if w not in stopwords.words(langFound)]\n",
    "        text = \" \".join(wordlist)\n",
    "\n",
    "    # drop too long and too short words\n",
    "    lower = 4\n",
    "    upper = 20\n",
    "    wordlist = [w for w in text.split() if len(w) >= lower and len(w) < upper]\n",
    "    text = \" \".join(wordlist)   \n",
    "\n",
    "    # singularize\n",
    "    try:\n",
    "        wordlist = TextBlob(text)\n",
    "        text = ' '.join(wordlist.words.singularize())\n",
    "    except:\n",
    "        pass\n",
    "\n",
    "    return text"
   ]
  },
  {
   "cell_type": "code",
   "execution_count": null,
   "metadata": {
    "collapsed": false,
    "slideshow": {
     "slide_type": "slide"
    }
   },
   "outputs": [],
   "source": [
    "from gensim.models.doc2vec import TaggedDocument\n",
    "from concurrent.futures import ProcessPoolExecutor\n",
    "import multiprocessing\n",
    "from collections import OrderedDict\n",
    "import os\n",
    "\n",
    "class LabeledDocument(object):\n",
    "    def __init__(self, docGenerator, lang='en', normalizeText=True, workers=1):\n",
    "        self.docGenerator = docGenerator\n",
    "        self.lang = lang\n",
    "        self.normalizeText = normalizeText\n",
    "        self.workers = workers\n",
    "    \n",
    "    def mkDir(self, dir):\n",
    "        if not os.path.exists(dir):\n",
    "            os.makedirs(dir)\n",
    "            logging.debug(dir + ' has been created.')\n",
    "        \n",
    "    def __iter__(self):\n",
    "        p = ProcessPoolExecutor(self.workers)\n",
    "        cacheDir = os.path.join('cache', 'normalizedDocs')\n",
    "        cacheDict = {}\n",
    "        futures = OrderedDict()\n",
    "        \n",
    "        if os.path.exists(cacheDir):\n",
    "            keySet = set(os.listdir(cacheDir))\n",
    "            logging.debug('Read keySet from cache directory')\n",
    "        else:\n",
    "            keySet = set()\n",
    "            self.mkDir(cacheDir)\n",
    "            logging.debug('Cache is empty. Begin with empty keySet')\n",
    "        \n",
    "        for doc in self.docGenerator:\n",
    "            if 'lang' not in doc or 'filename' not in doc \\\n",
    "            or doc['lang'] != self.lang or 'plaintext' not in doc:\n",
    "                if 'filename' in doc:\n",
    "                    logging.debug('Skipped ' + doc['filename'] + '. Missing parameters.')\n",
    "                else:\n",
    "                    logging.debug('The following document is missing some parameters: \\n' + json.dumps(doc))\n",
    "                continue\n",
    "            \n",
    "            text = doc['plaintext']\n",
    "            filename = doc['filename']\n",
    "            \n",
    "            if not self.normalizeText:\n",
    "                yield TaggedDocument(words=text.split(), tags=filename)\n",
    "            else:\n",
    "                if filename in keySet and os.path.exists(os.path.join(cacheDir, filename)):\n",
    "                    # the file has already been normalized, let's\n",
    "                    # read the cache\n",
    "                    with open(os.path.join(cacheDir, filename)) as fh:\n",
    "                        logging.debug('Yielded from Cache')\n",
    "                        yield TaggedDocument(words=json.load(fh).split(), tags=[filename])\n",
    "                else:\n",
    "                    futures[filename] = p.submit(normalize, text, lang=doc['lang'])\n",
    "\n",
    "        if self.normalizeText:\n",
    "            for k, v in futures.items():\n",
    "                v = v.result()\n",
    "                keySet.add(k)\n",
    "                with open(os.path.join(cacheDir, k), 'w') as fh:\n",
    "                    json.dump(v, fh)\n",
    "                    logging.debug('Yielded from Calculation')\n",
    "                    yield TaggedDocument(words=v.split(), tags=[k])"
   ]
  },
  {
   "cell_type": "code",
   "execution_count": null,
   "metadata": {
    "collapsed": false,
    "scrolled": true
   },
   "outputs": [],
   "source": [
    "import gensim\n",
    "\n",
    "it = LabeledDocument(loadItems(), workers=int(multiprocessing.cpu_count()/1.))\n",
    "model = gensim.models.Doc2Vec(size=600, window=10, min_count=3, workers=4, alpha=0.025, min_alpha=0.025) # use fixed learning rate00\n",
    "logging.info('Building vocabulary...')\n",
    "model.build_vocab(it)\n",
    "\n",
    "for i, epoch in enumerate(range(10)):\n",
    "    print('beginning interation #' + str(i))\n",
    "    model.train(it)\n",
    "    model.alpha -= 0.002 # decrease the learning rate\n",
    "    model.min_alpha = model.alpha # fix the learning rate, no decay\n",
    "\n",
    "print('done')"
   ]
  },
  {
   "cell_type": "code",
   "execution_count": null,
   "metadata": {
    "collapsed": false
   },
   "outputs": [],
   "source": [
    "model.save(os.path.join('cache', 'allDocs600D.model'))"
   ]
  },
  {
   "cell_type": "code",
   "execution_count": null,
   "metadata": {
    "collapsed": false
   },
   "outputs": [],
   "source": [
    "model.most_similar(positive=['tax'])"
   ]
  },
  {
   "cell_type": "raw",
   "metadata": {
    "collapsed": false
   },
   "source": [
    "model.similarity('bank', 'money')"
   ]
  },
  {
   "cell_type": "code",
   "execution_count": null,
   "metadata": {
    "collapsed": false
   },
   "outputs": [],
   "source": [
    "model.docvecs['00195034.pdf']"
   ]
  },
  {
   "cell_type": "code",
   "execution_count": null,
   "metadata": {
    "collapsed": false
   },
   "outputs": [],
   "source": [
    "model.most_similar(positive=model.docvecs['00095.pdf'])"
   ]
  },
  {
   "cell_type": "code",
   "execution_count": 6,
   "metadata": {
    "collapsed": false
   },
   "outputs": [
    {
     "data": {
      "text/plain": [
       "'1.10.2'"
      ]
     },
     "execution_count": 6,
     "metadata": {},
     "output_type": "execute_result"
    }
   ],
   "source": [
    "import numpy as gensim\n",
    "gensim.__version__"
   ]
  }
 ],
 "metadata": {
  "kernelspec": {
   "display_name": "Python 3",
   "language": "python",
   "name": "python3"
  },
  "language_info": {
   "codemirror_mode": {
    "name": "ipython",
    "version": 3
   },
   "file_extension": ".py",
   "mimetype": "text/x-python",
   "name": "python",
   "nbconvert_exporter": "python",
   "pygments_lexer": "ipython3",
   "version": "3.5.1"
  }
 },
 "nbformat": 4,
 "nbformat_minor": 0
}
