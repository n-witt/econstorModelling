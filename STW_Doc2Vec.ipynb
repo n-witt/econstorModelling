{
 "cells": [
  {
   "cell_type": "markdown",
   "metadata": {},
   "source": [
    "# Doc2Vec/STW Visualization\n",
    "\n",
    "Here, I want to prototype the idea of visualizing the STW tags of documents by their Doc2Vec/t-SNE representations.\n",
    "\n",
    "It is assumed that every document owns a 'stw' field.\n",
    "\n",
    "Here we are plotting the t-SNE representation of all document and those of the document with a specific stw tag into one graph, leading to ~4000 graphs. They can be examined for cluster formations.\n",
    "\n",
    "### Thoughts:\n",
    "- Modelling clusters using Gaussian Mixture Model seems feasible here. The resulting Gausian distributions can be interpreted as propabilities.\n",
    "- There are regions varing propability density. Do they need normalization?\n",
    "- To which degree is the result influenced by the dimensionality of the documents?"
   ]
  },
  {
   "cell_type": "code",
   "execution_count": 35,
   "metadata": {
    "collapsed": false
   },
   "outputs": [
    {
     "data": {
      "text/plain": [
       "'/run/user/1000/jupyter/kernel-5e009d12-dad6-440f-b391-9bef52041c7e.json'"
      ]
     },
     "execution_count": 35,
     "metadata": {},
     "output_type": "execute_result"
    }
   ],
   "source": [
    "from IPython.lib import kernel\n",
    "\n",
    "kernel.get_connection_file()"
   ]
  },
  {
   "cell_type": "code",
   "execution_count": 36,
   "metadata": {
    "collapsed": false
   },
   "outputs": [],
   "source": [
    "import logging\n",
    "\n",
    "logging.getLogger().setLevel(logging.ERROR)\n",
    "sourceDir = 'data/json_having_stw'\n",
    "cacheDir = 'data/cache'\n",
    "dimensionality = 1000\n",
    "modelCacheFile = 'havingSTW' + str(dimensionality)  + 'D.model'"
   ]
  },
  {
   "cell_type": "markdown",
   "metadata": {},
   "source": [
    "An iterator, to go over the corpus"
   ]
  },
  {
   "cell_type": "code",
   "execution_count": 37,
   "metadata": {
    "collapsed": false
   },
   "outputs": [],
   "source": [
    "import json\n",
    "import os\n",
    "from os.path import isfile, join\n",
    "from scandir import scandir\n",
    "\n",
    "\n",
    "class loadItems(object):\n",
    "    def __init__(self, wd = 'samples'):\n",
    "        self.wd = wd\n",
    "\n",
    "    def __iter__(self):\n",
    "        for doc in scandir(self.wd):\n",
    "            if doc.is_file() and doc.name.endswith('.json'):\n",
    "                with open(os.path.join(self.wd, doc.name), 'r') as f:\n",
    "                    yield json.load(f) "
   ]
  },
  {
   "cell_type": "markdown",
   "metadata": {},
   "source": [
    "## A datastructure containing all document's plaintext, their stw tags and a blank field for the corresponding docvecs"
   ]
  },
  {
   "cell_type": "code",
   "execution_count": 38,
   "metadata": {
    "collapsed": false
   },
   "outputs": [
    {
     "name": "stderr",
     "output_type": "stream",
     "text": []
    }
   ],
   "source": [
    "from collections import OrderedDict\n",
    "from tqdm import tqdm\n",
    "\n",
    "docGen = iter(loadItems(sourceDir))\n",
    "documents = OrderedDict()\n",
    "\n",
    "for d in tqdm(docGen):\n",
    "    try:\n",
    "        if d['lang'] == 'en':\n",
    "            documents[d['filename']] = {\n",
    "                            'stw': tuple(d['stw']),\n",
    "                            'plaintext': d['plaintext'],\n",
    "                            'docvecs': None,\n",
    "                            'docvecs2d': None\n",
    "                           }\n",
    "    except KeyError:\n",
    "        logging.info('KeyError')"
   ]
  },
  {
   "cell_type": "markdown",
   "metadata": {},
   "source": [
    "## Compute the Doc Vecs"
   ]
  },
  {
   "cell_type": "code",
   "execution_count": 39,
   "metadata": {
    "collapsed": false
   },
   "outputs": [],
   "source": [
    "import multiprocessing\n",
    "import gensim\n",
    "from utilities.LabeledDocuments import LabeledDocument, loadItems\n",
    "\n",
    "if os.path.isfile(os.path.join(cacheDir, modelCacheFile)):\n",
    "    model = gensim.models.Doc2Vec.load(os.path.join(cacheDir, \n",
    "                                                    modelCacheFile))\n",
    "else:\n",
    "    workers = int(multiprocessing.cpu_count()/1.)\n",
    "    it = LabeledDocument(normalizeText=False, workers=workers,\n",
    "                         wd=sourceDir)\n",
    "    model = gensim.models.Doc2Vec(size=dimensionality, window=10, \n",
    "                                  min_count=3, workers=workers, \n",
    "                                  alpha=0.025, min_alpha=0.025)\n",
    "    logging.info('Building vocabulary...')\n",
    "    model.build_vocab(it)\n",
    "\n",
    "    for i, epoch in enumerate(range(5)):\n",
    "        logging.info('beginning interation #' + str(i) + '\\n')\n",
    "        model.train(it)\n",
    "        model.alpha -= 0.002 # decrease the learning rate\n",
    "        model.min_alpha = model.alpha # fix the learning rate, no decay\n",
    "\n",
    "    logging.info('Persisting model')\n",
    "    model.save(os.path.join('cache', modelCacheFile))\n",
    "    logging.info('done')"
   ]
  },
  {
   "cell_type": "markdown",
   "metadata": {},
   "source": [
    "## append DocVecs to the documents dict "
   ]
  },
  {
   "cell_type": "code",
   "execution_count": 40,
   "metadata": {
    "collapsed": false
   },
   "outputs": [],
   "source": [
    "for d in documents.keys():\n",
    "    documents[d]['docvecs'] = model.docvecs[d]"
   ]
  },
  {
   "cell_type": "markdown",
   "metadata": {},
   "source": [
    "## t-SNE reduction"
   ]
  },
  {
   "cell_type": "code",
   "execution_count": 41,
   "metadata": {
    "collapsed": false
   },
   "outputs": [],
   "source": [
    "from sklearn.manifold import TSNE\n",
    "import pickle\n",
    "\n",
    "tsneFile = os.path.join(cacheDir, 'tsne' + str(dimensionality) + '.pkl')\n",
    "\n",
    "def tsne(docs, metric='euclidean'):\n",
    "    # calulate the t-SNE representation\n",
    "    tsne = TSNE(n_components=2, random_state=0, metric=metric)\n",
    "    return tsne.fit_transform(docs)\n",
    "\n",
    "if not os.path.isfile(tsneFile):\n",
    "    doc2VecGen = (d['docvecs'] for d in documents.values())\n",
    "    docVecs2D = tsne(list(doc2VecGen))\n",
    "    with open(tsneFile, 'wb') as fh:\n",
    "        pickle.dump(docVecs2D, fh)\n",
    "else:\n",
    "    with open(tsneFile, 'rb') as fh:\n",
    "        docVecs2D = pickle.load(fh)\n",
    "\n",
    "for doc, d2v2D in zip(documents.keys(), docVecs2D):\n",
    "    documents[doc]['docvecs2d'] = d2v2D"
   ]
  },
  {
   "cell_type": "markdown",
   "metadata": {},
   "source": [
    "## plot a specific STW topic"
   ]
  },
  {
   "cell_type": "code",
   "execution_count": 42,
   "metadata": {
    "collapsed": false
   },
   "outputs": [],
   "source": [
    "# stw dict\n",
    "stwDict = {}\n",
    "for k, tags in documents.items():\n",
    "    #import pdb; pdb.set_trace()\n",
    "    for tag in tags['stw']:\n",
    "        try:\n",
    "            stwDict[tag].append(k)\n",
    "        except KeyError:\n",
    "            stwDict[tag] = [k]"
   ]
  },
  {
   "cell_type": "code",
   "execution_count": null,
   "metadata": {
    "collapsed": false
   },
   "outputs": [
    {
     "name": "stdout",
     "output_type": "stream",
     "text": [
      "Populating the interactive namespace from numpy and matplotlib\n"
     ]
    }
   ],
   "source": [
    "%pylab inline\n",
    "import matplotlib.pyplot as plt\n",
    "import numpy as np\n",
    "from tqdm import tqdm\n",
    "\n",
    "def plotDocsWithSTWTag(stwTag, ax, color='mediumorchid', alpha=.5,\n",
    "                       size=200):\n",
    "    # plot those having a specific stw tag\n",
    "    handles = []\n",
    "    docs = []\n",
    "    for doc in stwDict[stwTag]:\n",
    "        docs.append(list(documents[doc]['docvecs2d']))\n",
    "    docs = np.array(docs)\n",
    "    return ax.scatter(docs[:, 0], docs[:, 1], s=size, c=color, \\\n",
    "                       alpha=alpha, cmap=plt.cm.Spectral)\n",
    "    \n",
    "'''    for doc in stwDict[stwTag]:\n",
    "        handles.append(plt.scatter(documents[doc]['docvecs2d'][0], \\\n",
    "                                   documents[doc]['docvecs2d'][1], \\\n",
    "                                   s=size, c=color, alpha=alpha, \\\n",
    "                                   cmap=plt.cm.Spectral))\n",
    "    return handles'''\n",
    "\n",
    "def plotAllDocs(ax):\n",
    "    handles = []\n",
    "    # all the others\n",
    "    for doc in documents.values():\n",
    "        handles.append(ax.scatter(doc['docvecs2d'][0], \\\n",
    "                                  doc['docvecs2d'][1], \\\n",
    "                                  s=50, c='black', alpha=.05, \\\n",
    "                                  cmap=plt.cm.Spectral))\n",
    "    return handles"
   ]
  },
  {
   "cell_type": "code",
   "execution_count": null,
   "metadata": {
    "collapsed": false
   },
   "outputs": [
    {
     "name": "stderr",
     "output_type": "stream",
     "text": [
      "  0%|          | 6/3725 [02:45<28:30:53, 27.60s/it]"
     ]
    }
   ],
   "source": [
    "#stwTag = '12070-5' # 115, nice!\n",
    "#stwTag = '10410-3' # 54, nice\n",
    "#stwTag = '10300-3' # 221, evenly distributed\n",
    "#stwTag = '11379-1' # 42, one nice cluster\n",
    "#stwTag = '10338-6' # 390, widely distributed, with one cluster\n",
    "#stwTag = '20399-1' # 13, widely distributed\n",
    "#stwTag = '11702-6' # 91, some clustering\n",
    "#stwTag = '10300-3' # 221, few clusters, broadly distributed\n",
    "#stwTag = '18012-3' # 3094, massive, everywhere\n",
    "#stwTag = '19041-5' # 150, moderate clustering\n",
    "#stwTag = '19637-0' # 10, one small cluster\n",
    "#stwTag = '11559-6' # 37, one very wide cluster\n",
    "#stwTag = '29633-2' # 26, two clusters\n",
    "#stwTag = '10057-0' # 166, widely distributed\n",
    "#stwTag = '27601-4' # one broad cluster\n",
    "#stwTag = '29611-5' # 48, one dense cluster, the rest ist distributed\n",
    "#stwTag = '15477-2' # 93, two clusters, some distributed entries\n",
    "#stwTag = '11422-5' # 13, one nice cluster\n",
    "#stwTag = '15861-1' # 129, one very strong cluster!!!\n",
    "#stwTag = '19438-6' # 99, some clustering\n",
    "#stwTag = '15837-5' # 58, one longish cluster\n",
    "#stwTag = '10037-6' # 30, no cluster\n",
    "#stwTag = '12031-1' # 30, no cluster\n",
    "#stwTag = '18538-0' # 66, one broad cluster\n",
    "#stwTag = '15945-2' # 241, interesing, widely distributed,\n",
    "                    # but only on one side\n",
    "#stwTag = '11327-6' # 411, one huge cluster\n",
    "#stwTag = '12174-0' # 20, no cluster\n",
    "#stwTag = '19360-3' # 70 nice cluster\n",
    "#stwTag = '10698-4' # 45 nice cluster\n",
    "\n",
    "fig = plt.figure(figsize=(10, 10), dpi=150)\n",
    "for stwTag in tqdm(stwDict.keys()):\n",
    "    ax = fig.add_subplot(111)\n",
    "    try:\n",
    "        plotDocsWithSTWTag(stwTag, ax)\n",
    "    except KeyError:\n",
    "        pass\n",
    "    plotAllDocs(ax)\n",
    "    ax.set_title(stwTag)\n",
    "    fig.savefig(os.path.join('data', 'images', str(dimensionality) + 'D',\\\n",
    "                             stwTag + '.png'))\n",
    "    ax.cla()\n",
    "    "
   ]
  },
  {
   "cell_type": "markdown",
   "metadata": {},
   "source": [
    "## Visualize one document and all the other documents that share at least one tag with that document"
   ]
  },
  {
   "cell_type": "code",
   "execution_count": null,
   "metadata": {
    "collapsed": false
   },
   "outputs": [],
   "source": [
    "#candidate = '623311542.pdf' # too much\n",
    "#candidate = '757180892.pdf' # okay-ish\n",
    "#candidate = '747427585.pdf' # interesting, worth exploring more closely\n",
    "#candidate = '655731857.pdf' # too much\n",
    "#candidate = '738371890.pdf' # only one tag?\n",
    "candidate = '659394316.pdf' # eigth tags!\n",
    "#candidate = '728679345.pdf' # confusing\n",
    "#candidate = '685007626.pdf' # confusing\n",
    "#candidate = '738469769.pdf' # nice, interesting\n",
    "#candidate = '735097992.pdf' # interesing\n",
    "\n",
    "niceColors = ['green', 'mediumorchid', 'darkgoldenrod', 'blue', \\\n",
    "              'sienna', 'gold', 'fuchsia', 'red', 'white']\n",
    "\n",
    "# plot all\n",
    "plt.figure(figsize=(10, 10), dpi=150)\n",
    "plotAllDocs(plt)\n",
    "\n",
    "# plot document shring at least one tag\n",
    "myHandles = []\n",
    "for stwTag, color in zip(documents[candidate]['stw'], niceColors):\n",
    "    myHandles.append(plotDocsWithSTWTag(stwTag, plt, color=color,\n",
    "                                       size=150, alpha=.3))\n",
    "\n",
    "# plot the doc itself    \n",
    "plt.scatter(documents[candidate]['docvecs2d'][0], \\\n",
    "            documents[candidate]['docvecs2d'][1], s=250, c='red', \\\n",
    "            alpha=1, cmap=plt.cm.Spectral)\n",
    "    \n",
    "plt.title(candidate)\n",
    "plt.legend(myHandles, documents[candidate]['stw'])\n",
    "plt.show()\n",
    "#pylab.savefig(os.path.join('data', 'images', candidate + '.png'))"
   ]
  },
  {
   "cell_type": "markdown",
   "metadata": {},
   "source": [
    "## tinkering with the stw tags"
   ]
  },
  {
   "cell_type": "code",
   "execution_count": null,
   "metadata": {
    "collapsed": false
   },
   "outputs": [],
   "source": [
    "from itertools import chain\n",
    "\n",
    "docGen = iter(loadItems(sourceDir))\n",
    "stwTopics = [d['stw'] for d in docGen]\n",
    "\n",
    "stwTopicsList = list(chain(*stwTopics))\n",
    "stwTopicsSet = set(chain(stwTopicsList))\n",
    "\n",
    "occurances = {}\n",
    "for i, t in enumerate(stwTopicsSet):\n",
    "    occurances[t] = stwTopicsList.count(t)"
   ]
  }
 ],
 "metadata": {
  "kernelspec": {
   "display_name": "Python 3",
   "language": "python",
   "name": "python3"
  },
  "language_info": {
   "codemirror_mode": {
    "name": "ipython",
    "version": 3
   },
   "file_extension": ".py",
   "mimetype": "text/x-python",
   "name": "python",
   "nbconvert_exporter": "python",
   "pygments_lexer": "ipython3",
   "version": "3.5.1"
  }
 },
 "nbformat": 4,
 "nbformat_minor": 0
}
