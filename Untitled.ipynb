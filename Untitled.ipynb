{
 "cells": [
  {
   "cell_type": "code",
   "execution_count": 2,
   "metadata": {
    "collapsed": false
   },
   "outputs": [
    {
     "data": {
      "text/plain": [
       "'/home/user/.ipython/profile_default'"
      ]
     },
     "execution_count": 2,
     "metadata": {},
     "output_type": "execute_result"
    }
   ],
   "source": [
    "profile_dir = get_ipython().profile_dir.location\n",
    "profile_dir"
   ]
  },
  {
   "cell_type": "code",
   "execution_count": 5,
   "metadata": {
    "collapsed": false
   },
   "outputs": [
    {
     "name": "stdout",
     "output_type": "stream",
     "text": [
      "Nach »/home/user/.ipython/profile_default/static/custom/slideshow« wird geklont\n",
      "remote: Counting objects: 4149, done.\u001b[K\n",
      "remote: Compressing objects: 100% (11/11), done.\u001b[K\n",
      "remote: Total 4149 (delta 2), reused 0 (delta 0), pack-reused 4138\u001b[K\n",
      "Objekte werden empfangen: 100% (4149/4149), 15.08 MiB | 6.81 MiB/s, done.\n",
      "Unterschiede werden aufgelöst: 100% (2374/2374), done.\n",
      "Verbundenheit wird überprüft … Fertig.\n"
     ]
    }
   ],
   "source": [
    "import os\n",
    "tgt = os.path.join( profile_dir, 'static', 'custom', 'slideshow')\n",
    "!git clone https://github.com/ipython-contrib/IPython-notebook-extensions.git $tgt"
   ]
  },
  {
   "cell_type": "code",
   "execution_count": 6,
   "metadata": {
    "collapsed": false
   },
   "outputs": [
    {
     "name": "stdout",
     "output_type": "stream",
     "text": [
      "/home/user/.ipython/profile_default/static/custom/slideshow\n",
      "bld.bat\t\t\t   jupyter_nbconvert_config.py\tsetup.py\r\n",
      "build.sh\t\t   jupyter_notebook_config.py\ttemplates\r\n",
      "configure_nbextensions.py  meta.yaml\t\t\ttests\r\n",
      "COPYING.rst\t\t   nbextensions\t\t\twiki-images\r\n",
      "extensions\t\t   README.md\r\n",
      "install.py\t\t   requirements.txt\r\n"
     ]
    }
   ],
   "source": [
    "%cd $tgt\n",
    "!ls"
   ]
  },
  {
   "cell_type": "code",
   "execution_count": 7,
   "metadata": {
    "collapsed": false
   },
   "outputs": [
    {
     "name": "stdout",
     "output_type": "stream",
     "text": [
      "Writing custom.js\n"
     ]
    }
   ],
   "source": [
    "%%writefile custom.js\n",
    "// we want strict javascript that fails\n",
    "// on ambiguous syntax\n",
    "\"using strict\";\n",
    "\n",
    "// do not use notebook loaded  event as it is re-triggerd on\n",
    "// revert to checkpoint but this allow extesnsion to be loaded\n",
    "// late enough to work.\n",
    "//\n",
    "\n",
    "$([IPython.events]).on('app_initialized.NotebookApp', function(){\n",
    "\n",
    "\n",
    "    /**  Use path to js file relative to /static/ dir without leading slash, or\n",
    "     *  js extension.\n",
    "     *  Link directly to file is js extension.\n",
    "     *\n",
    "     *  first argument of require is a **list** that can contains several modules if needed.\n",
    "     **/\n",
    "\n",
    "    // require(['custom/noscroll']);\n",
    "    // require(['custom/clean_start'])\n",
    "    // require(['custom/toggle_all_line_number'])\n",
    "    // require(['custom/gist_it']);\n",
    "\n",
    "    /**\n",
    "     *  Link to entrypoint if extesnsion is a folder.\n",
    "     *  to be consistent with commonjs module, the entrypoint is main.js\n",
    "     *  here youcan also trigger a custom function on load that will do extra\n",
    "     *  action with the module if needed\n",
    "     **/\n",
    "     require(['custom/slidemode/main'],function(slidemode){\n",
    "    //     // do stuff\n",
    "     })\n",
    "\n",
    "});"
   ]
  }
 ],
 "metadata": {
  "kernelspec": {
   "display_name": "Python 3",
   "language": "python",
   "name": "python3"
  },
  "language_info": {
   "codemirror_mode": {
    "name": "ipython",
    "version": 3
   },
   "file_extension": ".py",
   "mimetype": "text/x-python",
   "name": "python",
   "nbconvert_exporter": "python",
   "pygments_lexer": "ipython3",
   "version": "3.5.1"
  }
 },
 "nbformat": 4,
 "nbformat_minor": 0
}
