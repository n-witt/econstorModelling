{
 "cells": [
  {
   "cell_type": "code",
   "execution_count": 8,
   "metadata": {
    "collapsed": false
   },
   "outputs": [],
   "source": [
    "from gensim import corpora, models, similarities\n",
    "import logging\n",
    "import os\n",
    "import json\n",
    "import cPickle as pickle\n",
    "from collections import defaultdict \n",
    "\n",
    "logging.basicConfig(format='%(asctime)s : %(levelname)s : %(message)s', level=logging.INFO)\n",
    "workingDir = u'cache'\n",
    "documentsFile = workingDir + os.sep + u'documentMatrix'\n",
    "dictFile = workingDir + os.sep + u'econstor.dict'\n",
    "corpusFile = workingDir + os.sep + u'corpus.mm'\n",
    "\n",
    "def langFilteredFiles(files, lang=u'en'):\n",
    "    for file in files:\n",
    "        with open(file) as f:\n",
    "            document = json.loads(f.read())\n",
    "            try:\n",
    "                if document['lang'] == lang:\n",
    "                    yield document\n",
    "            except KeyError:\n",
    "                pass\n",
    "\n",
    "def readFiles(folder):\n",
    "    files = os.listdir(folder)\n",
    "    files = [folder + os.sep + file for file in files]\n",
    "    for file in langFilteredFiles(files):\n",
    "        yield file[u'plaintext']\n",
    "            \n",
    "def getDocumentMatrix(documentsFile):\n",
    "    '''\n",
    "    reads all the plaintext property of all json documents in the \"samples\"\n",
    "    subdirectory, removes some stopwords, throws away words that occur \n",
    "    once und creates an 2D array where [x][y] is the y-th word in the x-th\n",
    "    document or vice versa.\n",
    "    '''\n",
    "    if not os.path.exists(documentsFile):\n",
    "        logging.info(u'Creating document matrix file ')\n",
    "        for document in readFiles('samples'):\n",
    "            documents.append(document)\n",
    "        # remove stop words    \n",
    "        stoplist = set(\"for he she it a of the and to in\".split())\n",
    "        texts = [[token for token in document.lower().split() if token not in stoplist]\n",
    "                for document in documents]\n",
    "        \n",
    "        # remove word that occur once\n",
    "        frequency = defaultdict(int)\n",
    "        for text in texts:\n",
    "            for token in text:\n",
    "                frequency[token] += 1\n",
    "        texts = [[token for token in text if frequency[token] > 1]\n",
    "                 for text in texts]\n",
    "        logging.info(u'Document matrix created.')\n",
    "        with open(documentsFile, \"wb\") as f:\n",
    "            pickle.dump(texts, f)\n",
    "            logging.info(u'Document matrix written.')\n",
    "    else:\n",
    "        with open(documentsFile, \"rb\") as f:\n",
    "            texts = pickle.load(f)\n",
    "            logging.info(u'Document matrix loaded.')\n",
    "    return texts\n",
    "\n",
    "def getDictionary(dictFile):\n",
    "    '''\n",
    "    compiles a dictionary that allows the mapping of words to indicies.\n",
    "    '''\n",
    "    if not os.path.exists(dictFile):\n",
    "        logging.info(u'Building dictionary.')\n",
    "        # create dictionary\n",
    "        texts = getDocumentMatrix(documentsFile)\n",
    "        dictionary = corpora.Dictionary(texts)\n",
    "        dictionary.save(dictFile)\n",
    "        logging.info(u'Dictionary written')\n",
    "    else:\n",
    "        dictionary = corpora.Dictionary.load(dictFile)\n",
    "        logging.info(u'Dictionary loaded.')\n",
    "    return dictionary\n",
    "\n",
    "def getCorpus(corpusFile):\n",
    "    '''\n",
    "    translates the documents matrix to it's index-based representation\n",
    "    using the dictionary\n",
    "    '''\n",
    "    if not os.path.exists(corpusFile):\n",
    "        logging.info(u'Building corpus.')\n",
    "        dictionary = getDictionary(dictFile)\n",
    "        texts = getDocumentMatrix(documentsFile)\n",
    "        corpus = [dictionary.doc2bow(text)for text in texts]\n",
    "        corpora.MmCorpus.serialize(corpusFile, corpus)\n",
    "        logging.info(u'Corpus written.')\n",
    "    else:\n",
    "        corpus = corpora.MmCorpus(corpusFile)\n",
    "        logging.info(u'Corpus loaded.')\n",
    "    return corpus  "
   ]
  },
  {
   "cell_type": "code",
   "execution_count": 10,
   "metadata": {
    "collapsed": false
   },
   "outputs": [
    {
     "name": "stderr",
     "output_type": "stream",
     "text": [
      "WARNING:gensim.similarities.docsim:scanning corpus to determine the number of features (consider setting `num_features` explicitly)\n"
     ]
    }
   ],
   "source": [
    "documents = []\n",
    "\n",
    "if not os.path.exists(workingDir):\n",
    "    os.mkdir(workingDir)\n",
    "\n",
    "# create tf-idf transformation\n",
    "corpus = getCorpus(corpusFile)\n",
    "dict = getDictionary(dictFile)\n",
    "tfidf = models.TfidfModel(corpus)\n",
    "\n",
    "tfidfCorpus =  [tfidf[d] for d in corpus]\n",
    "\n",
    "lsi = models.LsiModel(tfidfCorpus, id2word=dict, num_topics=5)\n",
    "lsiCorpus = lsi[tfidfCorpus]\n",
    "\n",
    "index = similarities.MatrixSimilarity(lsiCorpus)"
   ]
  },
  {
   "cell_type": "code",
   "execution_count": 11,
   "metadata": {
    "collapsed": false
   },
   "outputs": [
    {
     "ename": "AttributeError",
     "evalue": "'list' object has no attribute 'words'",
     "output_type": "error",
     "traceback": [
      "\u001b[1;31m---------------------------------------------------------------------------\u001b[0m",
      "\u001b[1;31mAttributeError\u001b[0m                            Traceback (most recent call last)",
      "\u001b[1;32m<ipython-input-11-71efc7c6d835>\u001b[0m in \u001b[0;36m<module>\u001b[1;34m()\u001b[0m\n\u001b[1;32m----> 1\u001b[1;33m \u001b[0mdoc2Vec\u001b[0m \u001b[1;33m=\u001b[0m \u001b[0mmodels\u001b[0m\u001b[1;33m.\u001b[0m\u001b[0mDoc2Vec\u001b[0m\u001b[1;33m(\u001b[0m\u001b[0mcorpus\u001b[0m\u001b[1;33m,\u001b[0m \u001b[0msize\u001b[0m\u001b[1;33m=\u001b[0m\u001b[1;36m100\u001b[0m\u001b[1;33m,\u001b[0m \u001b[0mwindow\u001b[0m\u001b[1;33m=\u001b[0m\u001b[1;36m8\u001b[0m\u001b[1;33m,\u001b[0m \u001b[0mmin_count\u001b[0m\u001b[1;33m=\u001b[0m\u001b[1;36m5\u001b[0m\u001b[1;33m,\u001b[0m \u001b[0mworkers\u001b[0m\u001b[1;33m=\u001b[0m\u001b[1;36m8\u001b[0m\u001b[1;33m)\u001b[0m\u001b[1;33m\u001b[0m\u001b[0m\n\u001b[0m",
      "\u001b[1;32m/usr/local/lib/python2.7/dist-packages/gensim/models/doc2vec.pyc\u001b[0m in \u001b[0;36m__init__\u001b[1;34m(self, documents, size, alpha, window, min_count, max_vocab_size, sample, seed, workers, min_alpha, dm, hs, negative, dbow_words, dm_mean, dm_concat, dm_tag_count, docvecs, docvecs_mapfile, comment, trim_rule, **kwargs)\u001b[0m\n\u001b[0;32m    594\u001b[0m         \u001b[0mself\u001b[0m\u001b[1;33m.\u001b[0m\u001b[0mcomment\u001b[0m \u001b[1;33m=\u001b[0m \u001b[0mcomment\u001b[0m\u001b[1;33m\u001b[0m\u001b[0m\n\u001b[0;32m    595\u001b[0m         \u001b[1;32mif\u001b[0m \u001b[0mdocuments\u001b[0m \u001b[1;32mis\u001b[0m \u001b[1;32mnot\u001b[0m \u001b[0mNone\u001b[0m\u001b[1;33m:\u001b[0m\u001b[1;33m\u001b[0m\u001b[0m\n\u001b[1;32m--> 596\u001b[1;33m             \u001b[0mself\u001b[0m\u001b[1;33m.\u001b[0m\u001b[0mbuild_vocab\u001b[0m\u001b[1;33m(\u001b[0m\u001b[0mdocuments\u001b[0m\u001b[1;33m,\u001b[0m \u001b[0mtrim_rule\u001b[0m\u001b[1;33m=\u001b[0m\u001b[0mtrim_rule\u001b[0m\u001b[1;33m)\u001b[0m\u001b[1;33m\u001b[0m\u001b[0m\n\u001b[0m\u001b[0;32m    597\u001b[0m             \u001b[0mself\u001b[0m\u001b[1;33m.\u001b[0m\u001b[0mtrain\u001b[0m\u001b[1;33m(\u001b[0m\u001b[0mdocuments\u001b[0m\u001b[1;33m)\u001b[0m\u001b[1;33m\u001b[0m\u001b[0m\n\u001b[0;32m    598\u001b[0m \u001b[1;33m\u001b[0m\u001b[0m\n",
      "\u001b[1;32m/usr/local/lib/python2.7/dist-packages/gensim/models/word2vec.pyc\u001b[0m in \u001b[0;36mbuild_vocab\u001b[1;34m(self, sentences, keep_raw_vocab, trim_rule)\u001b[0m\n\u001b[0;32m    493\u001b[0m \u001b[1;33m\u001b[0m\u001b[0m\n\u001b[0;32m    494\u001b[0m         \"\"\"\n\u001b[1;32m--> 495\u001b[1;33m         \u001b[0mself\u001b[0m\u001b[1;33m.\u001b[0m\u001b[0mscan_vocab\u001b[0m\u001b[1;33m(\u001b[0m\u001b[0msentences\u001b[0m\u001b[1;33m,\u001b[0m \u001b[0mtrim_rule\u001b[0m\u001b[1;33m=\u001b[0m\u001b[0mtrim_rule\u001b[0m\u001b[1;33m)\u001b[0m  \u001b[1;31m# initial survey\u001b[0m\u001b[1;33m\u001b[0m\u001b[0m\n\u001b[0m\u001b[0;32m    496\u001b[0m         \u001b[0mself\u001b[0m\u001b[1;33m.\u001b[0m\u001b[0mscale_vocab\u001b[0m\u001b[1;33m(\u001b[0m\u001b[0mkeep_raw_vocab\u001b[0m\u001b[1;33m=\u001b[0m\u001b[0mkeep_raw_vocab\u001b[0m\u001b[1;33m,\u001b[0m \u001b[0mtrim_rule\u001b[0m\u001b[1;33m=\u001b[0m\u001b[0mtrim_rule\u001b[0m\u001b[1;33m)\u001b[0m  \u001b[1;31m# trim by min_count & precalculate downsampling\u001b[0m\u001b[1;33m\u001b[0m\u001b[0m\n\u001b[0;32m    497\u001b[0m         \u001b[0mself\u001b[0m\u001b[1;33m.\u001b[0m\u001b[0mfinalize_vocab\u001b[0m\u001b[1;33m(\u001b[0m\u001b[1;33m)\u001b[0m  \u001b[1;31m# build tables & arrays\u001b[0m\u001b[1;33m\u001b[0m\u001b[0m\n",
      "\u001b[1;32m/usr/local/lib/python2.7/dist-packages/gensim/models/doc2vec.pyc\u001b[0m in \u001b[0;36mscan_vocab\u001b[1;34m(self, documents, progress_per, trim_rule)\u001b[0m\n\u001b[0;32m    637\u001b[0m                 \u001b[0minterval_start\u001b[0m \u001b[1;33m=\u001b[0m \u001b[0mdefault_timer\u001b[0m\u001b[1;33m(\u001b[0m\u001b[1;33m)\u001b[0m\u001b[1;33m\u001b[0m\u001b[0m\n\u001b[0;32m    638\u001b[0m                 \u001b[0minterval_count\u001b[0m \u001b[1;33m=\u001b[0m \u001b[0mtotal_words\u001b[0m\u001b[1;33m\u001b[0m\u001b[0m\n\u001b[1;32m--> 639\u001b[1;33m             \u001b[0mdocument_length\u001b[0m \u001b[1;33m=\u001b[0m \u001b[0mlen\u001b[0m\u001b[1;33m(\u001b[0m\u001b[0mdocument\u001b[0m\u001b[1;33m.\u001b[0m\u001b[0mwords\u001b[0m\u001b[1;33m)\u001b[0m\u001b[1;33m\u001b[0m\u001b[0m\n\u001b[0m\u001b[0;32m    640\u001b[0m \u001b[1;33m\u001b[0m\u001b[0m\n\u001b[0;32m    641\u001b[0m             \u001b[1;32mfor\u001b[0m \u001b[0mtag\u001b[0m \u001b[1;32min\u001b[0m \u001b[0mdocument\u001b[0m\u001b[1;33m.\u001b[0m\u001b[0mtags\u001b[0m\u001b[1;33m:\u001b[0m\u001b[1;33m\u001b[0m\u001b[0m\n",
      "\u001b[1;31mAttributeError\u001b[0m: 'list' object has no attribute 'words'"
     ]
    }
   ],
   "source": [
    "doc2Vec = models.Doc2Vec(corpus, size=100, window=8, min_count=5, workers=8)"
   ]
  }
 ],
 "metadata": {
  "kernelspec": {
   "display_name": "Python 2",
   "language": "python",
   "name": "python2"
  },
  "language_info": {
   "codemirror_mode": {
    "name": "ipython",
    "version": 2
   },
   "file_extension": ".py",
   "mimetype": "text/x-python",
   "name": "python",
   "nbconvert_exporter": "python",
   "pygments_lexer": "ipython2",
   "version": "2.7.10"
  }
 },
 "nbformat": 4,
 "nbformat_minor": 0
}
