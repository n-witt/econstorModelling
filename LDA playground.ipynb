{
 "cells": [
  {
   "cell_type": "code",
   "execution_count": 18,
   "metadata": {
    "collapsed": false
   },
   "outputs": [
    {
     "data": {
      "text/plain": [
       "'/run/user/1000/jupyter/kernel-baa51188-70a0-43db-bb17-c39b6c82458e.json'"
      ]
     },
     "execution_count": 18,
     "metadata": {},
     "output_type": "execute_result"
    }
   ],
   "source": [
    "from IPython.lib import kernel\n",
    "\n",
    "kernel.get_connection_file()"
   ]
  },
  {
   "cell_type": "code",
   "execution_count": null,
   "metadata": {
    "collapsed": false
   },
   "outputs": [],
   "source": [
    "from gensim.corpora import Dictionary\n",
    "from utilities.LabeledDocuments import LabeledDocument\n",
    "from gensim import corpora\n",
    "from os.path import isfile\n",
    "\n",
    "# inspired by http://radimrehurek.com/gensim/tut1.html#corpus-formats\n",
    "\n",
    "class MyCorpus():\n",
    "    def __init__(self, labeledDocs='samples', \\\n",
    "                 dictFile='data/MMCorpus/econstor.dict', \\\n",
    "                 corpusFile='data/MMCorpus/corpus.mm'):\n",
    "        \n",
    "        if isfile(dictFile):\n",
    "            self.dictionary = Dictionary.load(dictFile)\n",
    "        else:\n",
    "            labeledDocs = LabeledDocument(wd=labeledDocs)\n",
    "            #because LabeledDocument yields gensim.models.doc2vec.LabeledSentence\n",
    "            # objects and we are only interested in the words property\n",
    "            docGen = (d.words for d in labeledDocs)\n",
    "            dictionary = Dictionary(iter(docGen))\n",
    "            dictionary.save(dictFile)\n",
    "            self.dictionary = dictionary\n",
    "            \n",
    "        if isfile(corpusFile):\n",
    "            self.corpus = corpora.MmCorpus(corpusFile)\n",
    "        else:\n",
    "            corpora.MmCorpus.serialize(corpusFile, self)\n",
    "            self.corpus = corpora.MmCorpus(corpusFile)\n",
    "            \n",
    "    \n",
    "    def __getitem__(self, name):\n",
    "        if name == 'dictionary':\n",
    "            return self.dictionary\n",
    "        elif name == 'corpus':\n",
    "            return self.corpus\n",
    "        else:\n",
    "            raise AttributeError('This object has no attribute {}.'.format(name))\n",
    "    \n",
    "    def __len__(self):\n",
    "        return len(self.corpus)\n",
    "    \n",
    "    def __iter__(self):\n",
    "        labeledDocs = LabeledDocument(wd='samples/')\n",
    "        for d in labeledDocs:\n",
    "            yield self.dictionary.doc2bow(d.words)"
   ]
  },
  {
   "cell_type": "code",
   "execution_count": null,
   "metadata": {
    "collapsed": false
   },
   "outputs": [
    {
     "name": "stderr",
     "output_type": "stream",
     "text": [
      "INFO:gensim.utils:loading Dictionary object from data/MMCorpus/econstor.dict\n",
      "INFO:gensim.corpora.indexedcorpus:loaded corpus index from data/MMCorpus/corpus.mm.index\n",
      "INFO:gensim.matutils:initializing corpus reader from data/MMCorpus/corpus.mm\n",
      "INFO:gensim.matutils:accepted corpus with 74150 documents, 2259478 features, 104142524 non-zero entries\n",
      "INFO:gensim.models.ldamodel:using symmetric alpha at 0.04\n",
      "INFO:gensim.models.ldamodel:using symmetric eta at 0.04\n",
      "INFO:gensim.models.ldamodel:using serial LDA version on this node\n",
      "INFO:gensim.models.ldamulticore:running batch LDA training, 25 topics, 3 passes over the supplied corpus of 74150 documents, updating every 74150 documents, evaluating every ~74150 documents, iterating 50x with a convergence threshold of 0.001000\n",
      "WARNING:gensim.models.ldamulticore:too few updates, training might not converge; consider increasing the number of passes or iterations to improve accuracy\n",
      "INFO:gensim.models.ldamulticore:training LDA model using 4 processes\n",
      "INFO:gensim.models.ldamulticore:PROGRESS: pass 0, dispatched chunk #0 = documents up to #2000/74150, outstanding queue size 1\n"
     ]
    }
   ],
   "source": [
    "%%timeit\n",
    "from gensim.models.ldamulticore import LdaMulticore \n",
    "\n",
    "LDAFile = 'data/LDA/test.lda'\n",
    "\n",
    "if isfile(LDAFile):\n",
    "    lda = LdaMulticore.load(LDAFile)\n",
    "else:\n",
    "    myCorpus = MyCorpus()\n",
    "    lda = LdaMulticore(myCorpus, id2word=myCorpus.dictionary,\\\n",
    "                       num_topics=25, workers=4, passes=3, \\\n",
    "                       batch=True)\n",
    "    lda.save(LDAFile)"
   ]
  },
  {
   "cell_type": "code",
   "execution_count": null,
   "metadata": {
    "collapsed": false
   },
   "outputs": [],
   "source": [
    "lda.show_topics()"
   ]
  }
 ],
 "metadata": {
  "kernelspec": {
   "display_name": "Python 3",
   "language": "python",
   "name": "python3"
  },
  "language_info": {
   "codemirror_mode": {
    "name": "ipython",
    "version": 3
   },
   "file_extension": ".py",
   "mimetype": "text/x-python",
   "name": "python",
   "nbconvert_exporter": "python",
   "pygments_lexer": "ipython3",
   "version": "3.5.1"
  }
 },
 "nbformat": 4,
 "nbformat_minor": 0
}
