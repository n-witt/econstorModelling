{
 "cells": [
  {
   "cell_type": "markdown",
   "metadata": {},
   "source": [
    "# Document embeddings"
   ]
  },
  {
   "cell_type": "markdown",
   "metadata": {},
   "source": [
    "## Some bioler plate code to kick things off"
   ]
  },
  {
   "cell_type": "code",
   "execution_count": 1,
   "metadata": {
    "collapsed": true
   },
   "outputs": [],
   "source": [
    "from executeCell import executeCell\n",
    "import logging\n",
    "logging.getLogger().setLevel(logging.INFO)"
   ]
  },
  {
   "cell_type": "markdown",
   "metadata": {
    "slideshow": {
     "slide_type": "slide"
    }
   },
   "source": [
    "## Load labes and data\n",
    "Instanciating this class creates an iterable that yields the content of a document as plain python object"
   ]
  },
  {
   "cell_type": "code",
   "execution_count": 2,
   "metadata": {
    "collapsed": false
   },
   "outputs": [],
   "source": [
    "import json\n",
    "import os\n",
    "from os.path import isfile, join\n",
    "from scandir import scandir\n",
    "\n",
    "\n",
    "class loadItems(object):\n",
    "    def __init__(self, wd = 'samples'):\n",
    "        self.wd = wd\n",
    "\n",
    "    def __iter__(self):\n",
    "        for doc in scandir(self.wd):\n",
    "            if doc.is_file() and doc.name.endswith('.json'):\n",
    "                with open(os.path.join(self.wd, doc.name), 'r') as f:\n",
    "                    yield json.load(f)   "
   ]
  },
  {
   "cell_type": "markdown",
   "metadata": {
    "slideshow": {
     "slide_type": "slide"
    }
   },
   "source": [
    "## _normalize_ cleans the text\n",
    "- removes punctuation\n",
    "- removes stopwords\n",
    "- removes too lang and too short words\n",
    "- sigularizes nouns"
   ]
  },
  {
   "cell_type": "code",
   "execution_count": 3,
   "metadata": {
    "collapsed": true
   },
   "outputs": [],
   "source": [
    "import re\n",
    "from textblob import TextBlob\n",
    "from nltk.corpus import stopwords\n",
    "\n",
    "def normalize(text, lang='en'):\n",
    "    # remove some symbols\n",
    "    text = re.sub(r'[,.;:]', r' ', text)\n",
    "\n",
    "    # stopword removal\n",
    "    langMapping = [('de', 'german'), ('en', 'english'), ('es', 'spanish'), ('fr', 'french')]\n",
    "    langFound = None\n",
    "    for map in langMapping:\n",
    "        if lang == map[0]:\n",
    "            langFound = map[1]\n",
    "    if langFound is not None:\n",
    "        wordlist = [w for w in text.split() if w not in stopwords.words(langFound)]\n",
    "        text = \" \".join(wordlist)\n",
    "\n",
    "    # drop too long and too short words\n",
    "    lower = 4\n",
    "    upper = 20\n",
    "    wordlist = [w for w in text.split() if len(w) >= lower and len(w) < upper]\n",
    "    text = \" \".join(wordlist)   \n",
    "\n",
    "    # singularize\n",
    "    try:\n",
    "        wordlist = TextBlob(text)\n",
    "        text = ' '.join(wordlist.words.singularize())\n",
    "    except:\n",
    "        pass\n",
    "\n",
    "    return text"
   ]
  },
  {
   "cell_type": "markdown",
   "metadata": {},
   "source": [
    "## Class that yields _LabeledSentence_ objects\n",
    "This class produces iterable objects that generate _LabeledSentence_-object, that can be consumed by the Doc2Vec modelling process. When `normalize` equals `True`, a set of normalization methods is carried out. Since this is computationally intensive, this is done in a parallel manner. The number of worker is defined by the `workers` parameter"
   ]
  },
  {
   "cell_type": "code",
   "execution_count": null,
   "metadata": {
    "collapsed": false,
    "slideshow": {
     "slide_type": "slide"
    }
   },
   "outputs": [
    {
     "name": "stderr",
     "output_type": "stream",
     "text": [
      "INFO:gensim.utils:Pattern library is not installed, lemmatization won't be available.\n",
      "INFO:summa.preprocessing.cleaner:'pattern' package not found; tag filters are not available for English\n"
     ]
    }
   ],
   "source": [
    "from gensim.models.doc2vec import LabeledSentence\n",
    "from concurrent.futures import ProcessPoolExecutor\n",
    "import multiprocessing\n",
    "from collections import OrderedDict\n",
    "import os\n",
    "\n",
    "class LabeledDocument(object):\n",
    "    def __init__(self, docGenerator, lang='en', normalizeText=True, workers=1):\n",
    "        self.docGenerator = docGenerator\n",
    "        self.lang = lang\n",
    "        self.normalizeText = normalizeText\n",
    "        self.workers = workers\n",
    "    \n",
    "    def mkDir(self, dir):\n",
    "        if not os.path.exists(dir):\n",
    "            os.makedirs(dir)\n",
    "            logging.debug(dir + ' has been created.')\n",
    "        \n",
    "    def __iter__(self):\n",
    "        p = ProcessPoolExecutor(self.workers)\n",
    "        cacheDir = os.path.join('cache', 'normalizedDocs')\n",
    "        cacheDict = {}\n",
    "        futures = OrderedDict()\n",
    "        \n",
    "        if os.path.exists(cacheDir):\n",
    "            keySet = set(os.listdir(cacheDir))\n",
    "            logging.debug('Read keySet from cache directory')\n",
    "        else:\n",
    "            keySet = set()\n",
    "            self.mkDir(cacheDir)\n",
    "            logging.debug('Cache is empty. Begin with empty keySet')\n",
    "        \n",
    "        for doc in self.docGenerator:\n",
    "            if 'lang' not in doc or 'filename' not in doc \\\n",
    "            or doc['lang'] != self.lang or 'plaintext' not in doc:\n",
    "                logging.debug('Omitting document. Important parameters missing')\n",
    "                continue\n",
    "            \n",
    "            text = doc['plaintext']\n",
    "            filename = doc['filename']\n",
    "            \n",
    "            if not self.normalizeText:\n",
    "                yield LabeledSentence(words=text, tags=filename)\n",
    "            else:\n",
    "                if filename in keySet and os.path.exists(os.path.join(cacheDir, filename)):\n",
    "                    # the file has already been normalized, let's\n",
    "                    # read the cache\n",
    "                    with open(os.path.join(cacheDir, filename)) as fh:\n",
    "                        logging.debug('Yielded from Cache')\n",
    "                        yield LabeledSentence(words=json.load(fh).split(), tags=[filename])\n",
    "                else:\n",
    "                    futures[filename] = p.submit(normalize, text, lang=doc['lang'])\n",
    "\n",
    "        if self.normalizeText:\n",
    "            for k, v in futures.items():\n",
    "                v = v.result()\n",
    "                keySet.add(k)\n",
    "                with open(os.path.join(cacheDir, k), 'w') as fh:\n",
    "                    json.dump(v, fh)\n",
    "                    logging.debug('Yielded from Calculation')\n",
    "                    yield LabeledSentence(words=v.split(), tags=[k])"
   ]
  },
  {
   "cell_type": "markdown",
   "metadata": {},
   "source": [
    "## Document embedding\n",
    "After building the vocabulary the model is trained during the course of ten iterations."
   ]
  },
  {
   "cell_type": "code",
   "execution_count": null,
   "metadata": {
    "collapsed": false
   },
   "outputs": [
    {
     "name": "stderr",
     "output_type": "stream",
     "text": [
      "INFO:root:\n",
      "INFO:root:Building vocabulary...\n",
      "INFO:gensim.models.doc2vec:collecting all words and their counts\n",
      "INFO:gensim.models.doc2vec:PROGRESS: at example #0, processed 0 words (0/s), 0 word types, 0 tags\n",
      "INFO:gensim.models.doc2vec:PROGRESS: at example #10000, processed 53944471 words (1529706/s), 976168 word types, 10000 tags\n",
      "INFO:gensim.models.doc2vec:PROGRESS: at example #20000, processed 108129518 words (1496662/s), 1617202 word types, 20000 tags\n",
      "INFO:gensim.models.doc2vec:PROGRESS: at example #30000, processed 161338361 words (1473317/s), 2150607 word types, 30000 tags\n"
     ]
    }
   ],
   "source": [
    "import gensim\n",
    "\n",
    "logging.info('')\n",
    "it = LabeledDocument(loadItems(), workers=int(multiprocessing.cpu_count()/1.))\n",
    "model = gensim.models.Doc2Vec(size=100, window=10, min_count=3, workers=8, alpha=0.025, min_alpha=0.025) # use fixed learning rate\n",
    "logging.info('Building vocabulary...')\n",
    "model.build_vocab(it)\n",
    "\n",
    "for i, epoch in enumerate(range(10)):\n",
    "    logging.info('beginning interation #' + str(i) + '\\n')\n",
    "    model.train(it)\n",
    "    model.alpha -= 0.002 # decrease the learning rate\n",
    "    model.min_alpha = model.alpha # fix the learning rate, no decay\n",
    "\n",
    "logging.info('Persisting model')\n",
    "model.save(os.path.join('cache', 'doc2vec.model'))\n",
    "logging.info('done')"
   ]
  },
  {
   "cell_type": "code",
   "execution_count": null,
   "metadata": {
    "collapsed": false
   },
   "outputs": [],
   "source": [
    "from gensim.models import Doc2Vec\n",
    "foo = Doc2Vec.load(os.path.join('cache', 'doc2vec.model'))"
   ]
  }
 ],
 "metadata": {
  "kernelspec": {
   "display_name": "Python 3",
   "language": "python",
   "name": "python3"
  },
  "language_info": {
   "codemirror_mode": {
    "name": "ipython",
    "version": 3
   },
   "file_extension": ".py",
   "mimetype": "text/x-python",
   "name": "python",
   "nbconvert_exporter": "python",
   "pygments_lexer": "ipython3",
   "version": "3.5.1"
  }
 },
 "nbformat": 4,
 "nbformat_minor": 0
}
