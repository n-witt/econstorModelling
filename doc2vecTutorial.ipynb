{
 "cells": [
  {
   "cell_type": "markdown",
   "metadata": {},
   "source": [
    "# based on https://medium.com/@klintcho/doc2vec-tutorial-using-gensim-ab3ac03d3a1#.9pqcww5sb"
   ]
  },
  {
   "cell_type": "code",
   "execution_count": null,
   "metadata": {
    "collapsed": false
   },
   "outputs": [],
   "source": [
    "import json\n",
    "import os\n",
    "import requests\n",
    "import IPython\n",
    "import ipykernel as kernel\n",
    "connection_file_path = kernel.get_connection_file()\n",
    "connection_file = os.path.basename(connection_file_path)\n",
    "kernel_id = connection_file.split('-', 1)[1].split('.')[0]\n",
    "\n",
    "def executeCell(x=0):\n",
    "    ''' executes the code in cell no 'x' (zero-based indexing)\n",
    "    '''\n",
    "    sessions = requests.get('http://127.0.0.1:8888/api/sessions').json()\n",
    "    ipynbFileName = \"\"\n",
    "    for sess in sessions:\n",
    "        if sess['kernel']['id'] == kernel_id:\n",
    "            ipynbFileName = sess['notebook'][u'path']\n",
    "            ipynbFileName = ipynbFileName.split(os.sep)[-1]\n",
    "            break\n",
    "\n",
    "    # read this notebook's file\n",
    "    if ipynbFileName != \"\":\n",
    "        with open(ipynbFileName) as f:\n",
    "            nb = json.load(f)\n",
    "    \n",
    "    # locate cell's code\n",
    "    if type(nb) == dict:\n",
    "        try:\n",
    "            code = \"\"\n",
    "            if nb[u'cells'][x][u'cell_type'] == u'code':\n",
    "                for s in nb[u'cells'][x]['source']:\n",
    "                    code += s\n",
    "            else:\n",
    "                raise TypeError(\"The cell you request is not of type 'code'\")\n",
    "        except IndexError:\n",
    "            raise IndexError('No cell #' + str(x))\n",
    "    # execute\n",
    "    get_ipython().run_cell(code)"
   ]
  },
  {
   "cell_type": "markdown",
   "metadata": {
    "slideshow": {
     "slide_type": "slide"
    }
   },
   "source": [
    "# Load labes and data"
   ]
  },
  {
   "cell_type": "code",
   "execution_count": null,
   "metadata": {
    "collapsed": false,
    "slideshow": {
     "slide_type": "slide"
    }
   },
   "outputs": [],
   "source": [
    "'''\n",
    "import json\n",
    "import os\n",
    "from os.path import isfile, join\n",
    "\n",
    "wd = 'samples'\n",
    "\n",
    "# lables\n",
    "docLabels = []\n",
    "docLabels = [f for f in os.listdir(wd) if f.endswith('.json')]\n",
    "\n",
    "# data\n",
    "data = []\n",
    "for doc in docLabels:\n",
    "    with open(os.path.join(wd, doc), 'r') as f:\n",
    "        data.append(json.load(f))\n",
    "'''"
   ]
  },
  {
   "cell_type": "code",
   "execution_count": null,
   "metadata": {
    "collapsed": true
   },
   "outputs": [],
   "source": [
    "import json\n",
    "import os\n",
    "from os.path import isfile, join\n",
    "\n",
    "\n",
    "def loadItems(wd = 'samples'):\n",
    "    docLabels = []\n",
    "    docLabels = [f for f in os.listdir(wd) if f.endswith('.json')]\n",
    "\n",
    "    for doc in docLabels:\n",
    "        with open(os.path.join(wd, doc), 'r') as f:\n",
    "            yield json.load(f)    "
   ]
  },
  {
   "cell_type": "markdown",
   "metadata": {
    "slideshow": {
     "slide_type": "slide"
    }
   },
   "source": [
    "# Class that yields _LabeledSentence_ objects"
   ]
  },
  {
   "cell_type": "code",
   "execution_count": null,
   "metadata": {
    "collapsed": false,
    "slideshow": {
     "slide_type": "slide"
    }
   },
   "outputs": [],
   "source": [
    "from gensim.models.doc2vec import LabeledSentence\n",
    "import re\n",
    "from textblob import TextBlob\n",
    "from nltk.corpus import stopwords\n",
    "from concurrent.futures import ProcessPoolExecutor\n",
    "import multiprocessing\n",
    "\n",
    "class LabeledDocument(object):\n",
    "    def __init__(self, docGenerator, lang='en', normalizeText=True, workers=1):\n",
    "        self.docGenerator = docGenerator\n",
    "        self.lang = lang\n",
    "        self.normalizeText = normalizeText\n",
    "        self.workers = workers\n",
    "        \n",
    "    def __iter__(self):\n",
    "        p = ProcessPoolExecutor(self.workers)\n",
    "        futures = []\n",
    "        import pdb; pdb.set_trace()\n",
    "        for doc in self.docGenerator:\n",
    "            if 'lang' in doc \\\n",
    "                and 'filename' in doc \\\n",
    "                and doc['lang'] == self.lang \\\n",
    "                and 'plaintext' in doc:\n",
    "                    \n",
    "                text = doc['plaintext']\n",
    "                if self.normalizeText:\n",
    "                    futures.append((doc['filename'], p.submit(self._normalize, text)))\n",
    "\n",
    "        for f in futures:\n",
    "            yield LabeledSentence(words=f[1].result(), tags=[f[0]])\n",
    "    \n",
    "    def _normalize(self, text):\n",
    "        # remove some symbols\n",
    "        text = re.sub(r'[,.:]', r'', text)\n",
    "        \n",
    "        # stopword removal\n",
    "        langMapping = [('de', 'german'), ('en', 'english'), ('es', 'spanish'), ('fr', 'french')]\n",
    "        lang = None\n",
    "        for map in langMapping:\n",
    "            if self.lang == map[0]:\n",
    "                lang = map[1]\n",
    "        if lang is not None:\n",
    "            wordlist = [w for w in text.split() if w not in stopwords.words(lang)]\n",
    "            text = \" \".join(wordlist)\n",
    "        \n",
    "        # drop too long and too short words\n",
    "        lower = 4\n",
    "        upper = 20\n",
    "        wordlist = [w for w in text.split() if len(w) >= lower and len(w) < upper]\n",
    "        text = \" \".join(wordlist)   \n",
    "        \n",
    "        # singularize\n",
    "        try:\n",
    "            wordlist = TextBlob(text)\n",
    "            text = ' '.join(wordlist.words.singularize())\n",
    "        except:\n",
    "            pass\n",
    "        \n",
    "        return text"
   ]
  },
  {
   "cell_type": "code",
   "execution_count": null,
   "metadata": {
    "collapsed": false
   },
   "outputs": [],
   "source": [
    "import gensim\n",
    "\n",
    "it = LabeledDocument(loadItems(), workers=int(multiprocessing.cpu_count()/2.))\n",
    "model = gensim.models.Doc2Vec(size=300, window=10, min_count=3, workers=8, alpha=0.025, min_alpha=0.025) # use fixed learning rate\n",
    "model.build_vocab(it)\n",
    "\n",
    "for i, epoch in enumerate(range(10)):\n",
    "    print('beginning interation #' + str(i))\n",
    "    model.train(it)\n",
    "    model.alpha -= 0.002 # decrease the learning rate\n",
    "    model.min_alpha = model.alpha # fix the learning rate, no decay\n",
    "\n",
    "print('done')"
   ]
  },
  {
   "cell_type": "code",
   "execution_count": null,
   "metadata": {
    "collapsed": false
   },
   "outputs": [],
   "source": [
    "model.save('doc2vec.model')"
   ]
  },
  {
   "cell_type": "code",
   "execution_count": null,
   "metadata": {
    "collapsed": false
   },
   "outputs": [],
   "source": [
    "model.most_similar(positive=['market'])"
   ]
  },
  {
   "cell_type": "code",
   "execution_count": null,
   "metadata": {
    "collapsed": false
   },
   "outputs": [],
   "source": [
    "model.similarity('bank', 'money')"
   ]
  }
 ],
 "metadata": {
  "kernelspec": {
   "display_name": "Python 3",
   "language": "python",
   "name": "python3"
  },
  "language_info": {
   "codemirror_mode": {
    "name": "ipython",
    "version": 3
   },
   "file_extension": ".py",
   "mimetype": "text/x-python",
   "name": "python",
   "nbconvert_exporter": "python",
   "pygments_lexer": "ipython3",
   "version": "3.5.1"
  }
 },
 "nbformat": 4,
 "nbformat_minor": 0
}
